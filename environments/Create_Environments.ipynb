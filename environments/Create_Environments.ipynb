{
 "cells": [
  {
   "cell_type": "markdown",
   "id": "dcca7d96",
   "metadata": {},
   "source": [
    "<font size=\"1\">Copyright 2021, by the California Institute of Technology. ALL RIGHTS RESERVED. United States Government sponsorship acknowledged. Any commercial use must be negotiated with the Office of Technology Transfer at the California Institute of Technology.</font>\n",
    "    \n",
    "<font size=\"1\">This software may be subject to U.S. export control laws and regulations. By accepting this document, the user agrees to comply with all applicable U.S. export laws and regulations. User has the responsibility to obtain export licenses, or other export authority as may be required, before exporting such information to foreign countries or providing access to foreign persons.<font>"
   ]
  },
  {
   "cell_type": "markdown",
   "id": "patient-logistics",
   "metadata": {},
   "source": [
    "## User-local Environment Creation\n",
    "**This notebook must be run in the base kernel.**\n",
    "\n",
    "This notebook provides the means by which additional conda environments that support specific science data packages are created local to the user (i.e.'user-local'). The implication of user-local installations is that they are retained across logins and server restarts (since the ~jovyan directory is retained and remounted each time). It also permits the user to customize the environment, again with those changes persisted across sessions.\n",
    "\n",
    "This notebook provides the steps to create the following user-local environments:\n",
    "- ISCE2/ISCE3\n",
    "- MintPy/ARIATools\n",
    "- PLAnT\n",
    "\n",
    "Each environment also contains the PCM APIs (pele-client, otello, osaka) and tools (notebook-pge-wrapper)."
   ]
  },
  {
   "cell_type": "markdown",
   "id": "71d24bfb",
   "metadata": {},
   "source": [
    "#### Install kernda\n",
    "Kernda will be used to make ipython aware of the environments we create."
   ]
  },
  {
   "cell_type": "code",
   "execution_count": null,
   "id": "0afba3d7",
   "metadata": {
    "tags": []
   },
   "outputs": [],
   "source": [
    "pip install kernda"
   ]
  },
  {
   "cell_type": "markdown",
   "id": "3888f92c",
   "metadata": {},
   "source": [
    "### What environments are currently available?\n",
    "Come back and re-execute this cell any time to see what has and hasn't been created. Those found under /home/jovyan are user-local while others are global."
   ]
  },
  {
   "cell_type": "code",
   "execution_count": null,
   "id": "ff1df791",
   "metadata": {
    "scrolled": true,
    "tags": []
   },
   "outputs": [],
   "source": [
    "%conda env list"
   ]
  },
  {
   "cell_type": "markdown",
   "id": "hearing-resource",
   "metadata": {
    "tags": []
   },
   "source": [
    "### Configure conda\n",
    "This will make conda recognize directories under ~/.local/envs as their environment name. This only needs to be run once, ever."
   ]
  },
  {
   "cell_type": "code",
   "execution_count": null,
   "id": "rural-danish",
   "metadata": {
    "tags": []
   },
   "outputs": [],
   "source": [
    "%%bash\n",
    "mkdir -p ~/.local/envs\n",
    "conda config --append envs_dirs ~/.local/envs"
   ]
  },
  {
   "cell_type": "markdown",
   "id": "afraid-processing",
   "metadata": {
    "tags": []
   },
   "source": [
    "### ISCE2/ISCE3\n",
    "This cell will create a user-local environment containing ISCE2 and ISCE3. This environment also contains the PCM APIs (pele, otello, osaka) and the notebook-pge-wrapper.\n",
    "\n",
    "If some messages from tar ignoring unknown extended header keywords appear, they can be safely ignored."
   ]
  },
  {
   "cell_type": "code",
   "execution_count": null,
   "id": "c9167e91",
   "metadata": {
    "scrolled": true,
    "tags": []
   },
   "outputs": [],
   "source": [
    "%%bash\n",
    "\n",
    "env_base=\"/home/jovyan/.local/envs/isce\"\n",
    "python_version=\"3.9\"\n",
    "\n",
    "# (re)create the ISCE2/ISCE3 environment\n",
    "mamba env create -f env_files/isce_conda_env.yml -p ${env_base} --force\n",
    "\n",
    "# update the ipykernel to recognize the new kernel\n",
    "conda run -n isce python -m ipykernel install --user --name isce --display-name \"isce\"\n",
    "# now invoke kernda to modify the kernel file to ensure the kernel is invoked from within the conda environment\n",
    "conda run -n isce kernda --env-dir ${env_base} --display-name isce -o ~/.local/share/jupyter/kernels/isce/kernel.json\n",
    "\n",
    "isce_package=${env_base}/lib/python${python_version}/site-packages/isce\n",
    "\n",
    "# patch isce2 to correct Land Processes DAAC URLs\n",
    "pushd ${isce_package}\n",
    "sed -i 's?http://e4ft?https://e4ft?g' `grep -rl \"http://e4ft\" ./`\n",
    "popd\n",
    "\n",
    "# install the license\n",
    "tar zxf support_files/stanford_components.tgz -C ${isce_package}\n",
    "\n",
    "# Additional ISCE set-up\n",
    "source /opt/conda/bin/activate ${env_base}\n",
    "conda env config vars set -n isce PATH=${env_base}/bin:${isce_package}/applications:${PATH}\n",
    "conda env config vars set -n isce PYTHONPATH=${isce_package}:${PYTHONPATH}"
   ]
  },
  {
   "cell_type": "markdown",
   "id": "5a0b7367",
   "metadata": {},
   "source": [
    "### ISCE2/ISCE3 + RAiDER\n",
    "This cell will create a user-local environment containing ISCE2, ISCE3 and RAiDER (Raytracing Atmospheric Delay Estimation for RADAR - https://github.com/dbekaert/RAiDER). This environment also contains the PCM APIs (pele, otello, osaka) and the notebook-pge-wrapper.\n",
    "\n",
    "If some messages from tar ignoring unknown extended header keywords appear, they can be safely ignored."
   ]
  },
  {
   "cell_type": "code",
   "execution_count": null,
   "id": "6ee31a40",
   "metadata": {
    "scrolled": true,
    "tags": []
   },
   "outputs": [],
   "source": [
    "%%bash\n",
    "\n",
    "env_base=\"/home/jovyan/.local/envs/isce_raider\"\n",
    "python_version=\"3.9\"\n",
    "\n",
    "# (re)create the ISCE2/ISCE3 environment that includes RAiDER\n",
    "mamba env create -f env_files/isce_conda_env.yml -p ${env_base} --force\n",
    "# for now, have to use a slightly customized raider dependency yml file which specifies the correct version of dem_stitcher\n",
    "mamba env update -f env_files/environment_raider.yml -p ${env_base}\n",
    "\n",
    "# install RAiDER, repo will be checked out into /tmp\n",
    "pushd /tmp\n",
    "if [ ! -d RAiDER ] && echo \"Checking out RAiDER\"\n",
    "then\n",
    "    git clone https://github.com/dbekaert/RAiDER\n",
    "fi\n",
    "cd RAiDER\n",
    "conda run -n isce_raider python setup.py install\n",
    "\n",
    "# update the ipykernel to recognize the new kernel\n",
    "conda run -n isce_raider python -m ipykernel install --user --name isce_raider --display-name \"isce_raider\"\n",
    "# now invoke kernda to modify the kernel file to ensure the kernel is invoked from within the conda environment\n",
    "conda run -n isce_raider kernda --env-dir ${env_base} --display-name isce_raider -o ~/.local/share/jupyter/kernels/isce_raider/kernel.json\n",
    "\n",
    "isce_package=${env_base}/lib/python${python_version}/site-packages/isce\n",
    "\n",
    "# patch isce2 to correct Land Processes DAAC URLs\n",
    "pushd ${isce_package}\n",
    "sed -i 's?http://e4ft?https://e4ft?g' `grep -rl \"http://e4ft\" ./`\n",
    "popd\n",
    "\n",
    "# install the license\n",
    "popd\n",
    "tar zxf support_files/stanford_components.tgz -C ${isce_package}\n",
    "\n",
    "# Additional ISCE set-up\n",
    "source /opt/conda/bin/activate ${env_base}\n",
    "conda env config vars set -n isce_raider PATH=${env_base}/bin:${isce_package}/applications:${PATH}\n",
    "conda env config vars set -n isce_raider PYTHONPATH=${isce_package}:${PYTHONPATH}"
   ]
  },
  {
   "cell_type": "markdown",
   "id": "72ac00fd",
   "metadata": {
    "tags": []
   },
   "source": [
    "### MintPy/ARIAtools\n",
    "This cell will create a user-local environment containing MintPy and ARIAtools. This environment also contains the PCM APIs (pele, otello, osaka) and the notebook-pge-wrapper.\n",
    "\n",
    "Note that the script below installs the default branch of ARIA-tools (currently 'dev'). If you'd like a specific branch (e.g. v1.1.2), change the git clone line to:\n",
    "\n",
    "```git clone -b v1.1.2 https://github.com/aria-tools/ARIA-tools```"
   ]
  },
  {
   "cell_type": "code",
   "execution_count": null,
   "id": "3a62d4f2-dcf4-4159-b404-d55cff695ede",
   "metadata": {
    "scrolled": true,
    "tags": []
   },
   "outputs": [],
   "source": [
    "%%bash\n",
    "\n",
    "local_base=\"/home/jovyan/.local\"\n",
    "env_base=${local_base}/envs/mintpy\n",
    "\n",
    "# (re)create the MintPy/ARIATools environment\n",
    "mamba env create -f env_files/mintpy_conda_env.yml -p ${env_base} --force\n",
    "\n",
    "# make the base mintpy files executable\n",
    "chmod 755 ${env_base}/lib/python*/site-packages/mintpy/*.py\n",
    "\n",
    "# install/build ARIA-tools\n",
    "aria_install_dir=${local_base}/tools/ARIA-tools\n",
    "if [ ! -d ${aria_install_dir} ] && echo \"Checking out ARIA-tools\"\n",
    "then\n",
    "    # add -b <branch/tag> to the following command to install one other than dev\n",
    "    git clone https://github.com/aria-tools/ARIA-tools ${aria_install_dir}\n",
    "fi\n",
    "\n",
    "# even if the directory previously exists, this has to be done since the environment is being recreated\n",
    "pushd ${aria_install_dir}\n",
    "git pull\n",
    "mamba run -n mintpy python setup.py build\n",
    "mamba run -n mintpy python setup.py install\n",
    "popd\n",
    "\n",
    "# update the ipykernel to recognize the new kernel\n",
    "conda run -n mintpy python -m ipykernel install --user --name mintpy --display-name \"mintpy\"\n",
    "# now invoke kernda to modify the kernel file to ensure the kernel is invoked from within the conda environment\n",
    "conda run -n mintpy kernda --env-dir ${env_base} --display-name mintpy -o ~/.local/share/jupyter/kernels/mintpy/kernel.json\n",
    "\n",
    "# Additional ARIA-tools set-up\n",
    "source /opt/conda/bin/activate ${env_base}\n",
    "conda env config vars set -n mintpy PATH=${aria_install_dir}:${PATH}\n",
    "conda env config vars set -n mintpy PYTHONPATH=${aria_install_dir}:${PYTHONPATH}"
   ]
  },
  {
   "cell_type": "markdown",
   "id": "16376fae-1e50-44d4-9fcd-e9e1486811de",
   "metadata": {},
   "source": [
    "### MintPy from insarlab repository and ARIAtools\n",
    "This cell will create a user-local environment containing MintPy as checked out from insarlab's github repo which allows access to newer features/fixes not yet available through conda-forge. ARIAtools is installed from github as in the above cell (see the note about installing different branches). This environment also contains the PCM APIs (pele, otello, osaka) and the notebook-pge-wrapper."
   ]
  },
  {
   "cell_type": "code",
   "execution_count": null,
   "id": "e9c39eb9-9a27-46a3-b24a-0adcb369089f",
   "metadata": {
    "scrolled": true,
    "tags": []
   },
   "outputs": [],
   "source": [
    "%%bash\n",
    "\n",
    "local_base=\"/home/jovyan/.local\"\n",
    "env_base=${local_base}/envs/mintpy\n",
    "\n",
    "# (re)create the MintPy/ARIATools environment\n",
    "mamba env create -f env_files/mintpy_conda_env_base.yml -p ${env_base} --force\n",
    "\n",
    "mintpy_install_dir=${env_base}/tools/MintPy\n",
    "if [ ! -d ${mintpy_install_dir} ] && echo \"Checking out MintPy\"\n",
    "then\n",
    "   git clone https://github.com/insarlab/MintPy.git ${mintpy_install_dir}\n",
    "fi\n",
    "\n",
    "source /opt/conda/bin/activate ${env_base}\n",
    "sudo yum install -y gcc-c++\n",
    "pip install kernda\n",
    "\n",
    "# even if the directory previously exists, this has to be done since the environment is being recreated\n",
    "pushd ${mintpy_install_dir}\n",
    "git pull\n",
    "python -m pip install .\n",
    "popd\n",
    "\n",
    "# install/build ARIA-tools\n",
    "aria_install_dir=${env_base}/tools/ARIA-tools\n",
    "if [ ! -d ${aria_install_dir} ] && echo \"Checking out ARIA-tools\"\n",
    "then\n",
    "    # add -b <branch/tag> to the following command to install one other than dev\n",
    "    git clone https://github.com/aria-tools/ARIA-tools ${aria_install_dir}\n",
    "fi\n",
    "\n",
    "# even if the directory previously exists, this has to be done since the environment is being recreated\n",
    "pushd ${aria_install_dir}\n",
    "git pull\n",
    "conda run -n mintpy python setup.py build\n",
    "conda run -n mintpy python setup.py install\n",
    "popd\n",
    "\n",
    "# update the ipykernel to recognize the new kernel\n",
    "conda run -n mintpy python -m ipykernel install --user --name mintpy --display-name \"mintpy\"\n",
    "# now invoke kernda to modify the kernel file to ensure the kernel is invoked from within the conda environment\n",
    "conda run -n mintpy kernda --env-dir ${env_base} --display-name mintpy -o ~/.local/share/jupyter/kernels/mintpy/kernel.json\n",
    "\n",
    "# Additional ARIA-tools set-up\n",
    "conda env config vars set -n mintpy PATH=${mintpy_install_dir}/mintpy:${aria_install_dir}:${PATH}\n",
    "conda env config vars set -n mintpy PYTHONPATH=${mintpy_install_dir}:${aria_install_dir}:${PYTHONPATH}"
   ]
  },
  {
   "cell_type": "markdown",
   "id": "567a99ba",
   "metadata": {
    "tags": []
   },
   "source": [
    "### PLAnT\n",
    "This cell will create a user-local environment containing PLAnT as well as the aforementioned PCM APIs and notebook-pge-wrapper. This environment is very straight-forward to create."
   ]
  },
  {
   "cell_type": "code",
   "execution_count": null,
   "id": "f03d7bf9",
   "metadata": {},
   "outputs": [],
   "source": [
    "%%bash\n",
    "\n",
    "env_base=\"/home/jovyan/.local/envs/plant\"\n",
    "\n",
    "# (re)create the PLAnT environment\n",
    "mamba env create -f env_files/plant_conda_env.yml -p ${env_base} --force\n",
    "\n",
    "# update the ipykernel to recognize the new kernel\n",
    "conda run -n plant python -m ipykernel install --user --name plant --display-name \"plant\"\n",
    "# now invoke kernda to modify the kernel file to ensure the kernel is invoked from within the conda environment\n",
    "conda run -n plant kernda --env-dir ${env_base} --display-name plant -o ~/.local/share/jupyter/kernels/plant/kernel.json"
   ]
  },
  {
   "cell_type": "markdown",
   "id": "ca36cb78-99b4-4653-9ca9-bf33b46a699e",
   "metadata": {},
   "source": [
    "### TrackFrameDB\n",
    "This cell will create a user-local environment for running the track frame database notebook and scripts.\n",
    "This environment is very straight-forward to create."
   ]
  },
  {
   "cell_type": "code",
   "execution_count": null,
   "id": "523e0afd-3558-4755-9db0-72554e71a951",
   "metadata": {},
   "outputs": [],
   "source": [
    "%%bash\n",
    "\n",
    "env_name=\"track_frame_db\"\n",
    "env_base=\"/home/jovyan/.local/envs/${env_name}\"\n",
    "\n",
    "# (re)create the Track Frame DB environment\n",
    "mamba env create -f env_files/${env_name}_conda_env.yml -p ${env_base} --force\n",
    "\n",
    "# update the ipykernel to recognize the new kernel\n",
    "mamba run -n ${env_name} python -m ipykernel install --user --name ${env_name} --display-name \"${env_name}\"\n",
    "# now invoke kernda to modify the kernel file to ensure the kernel is invoked from within the conda environment\n",
    "mamba run -n ${env_name} kernda --env-dir ${env_base} --display-name ${env_name} -o ~/.local/share/jupyter/kernels/${env_name}/kernel.json"
   ]
  },
  {
   "cell_type": "markdown",
   "id": "a6070eb8-20a6-42d0-8f5e-eef698927a52",
   "metadata": {},
   "source": [
    "### ISCE3_SRC\n",
    "This cell will clone ISCE3's public develop branch and install an environment capable of building it from source.\n",
    "\n",
    "ISCE3 will be installed to `${HOME}/isce3/build` (where `${HOME}` is usually `/home/jovyan`).\n",
    "\n",
    "**IMPORTANT: This environment takes a long time to build (~30 min). In addition, red warning cells will appear often during the build. These are normal, you can ignore them.**"
   ]
  },
  {
   "cell_type": "code",
   "execution_count": null,
   "id": "223914ed-0ccc-4712-afa4-685ac542451e",
   "metadata": {
    "tags": []
   },
   "outputs": [],
   "source": [
    "%%bash\n",
    "\n",
    "ORIGIN_DIR=$(pwd)\n",
    "\n",
    "env_name=\"isce3_src\"\n",
    "env_base=\"/home/jovyan/.local/envs/${env_name}\"\n",
    "build_dir=\"${HOME}/isce3/build\"\n",
    "\n",
    "# (re)create the Track Frame DB environment\n",
    "mamba env create -f env_files/${env_name}_conda_env.yml -p ${env_base} --force\n",
    "# update the ipykernel to recognize the new kernel\n",
    "mamba run -n ${env_name} python -m ipykernel install --user --name ${env_name} --display-name \"${env_name}\"\n",
    "\n",
    "source /opt/conda/bin/activate isce3_src\n",
    "\n",
    "conda env config vars set ISCE3_BUILD_DIR=\"${build_dir}\"\n",
    "conda env config vars set CUDAHOSTCXX=\"x86_64-conda-linux-gnu-g++\"\n",
    "conda env config vars set CC=\"x86_64-conda-linux-gnu-gcc\"\n",
    "conda env config vars set CXX=\"x86_64-conda-linux-gnu-g++\"\n",
    "conda env config vars set PYTHONPATH=\"${build_dir}/packages:${PYTHONPATH}\"\n",
    "conda env config vars set LD_LIBRARY_PATH=\"${build_dir}/lib64:${LD_LIBRARY_PATH}\"\n",
    "\n",
    "conda deactivate\n",
    "source /opt/conda/bin/activate isce3_src\n",
    "\n",
    "cd ${HOME}\n",
    "git clone https://github.com/isce-framework/isce3.git\n",
    "mkdir ${HOME}/isce3/build\n",
    "\n",
    "cd ${HOME}/isce3\n",
    "git pull\n",
    "cd ${HOME}/isce3/build\n",
    "cmake -DCMAKE_INSTALL_PREFIX=\"${build_dir}\" ${HOME}/isce3/\n",
    "make -j install\n",
    "\n",
    "conda deactivate\n",
    "cd ${ORIGIN_DIR}"
   ]
  },
  {
   "cell_type": "markdown",
   "id": "467a8996",
   "metadata": {},
   "source": [
    "### Creating other user-local environments.\n",
    "\n",
    "As shown above, the command used to create a conda environment is:\n",
    "\n",
    "```conda env create <arguments>```\n",
    "\n",
    "In the above cases, the ```-f``` switch is used to denote the input file which describes the environment's contents, including the source conda channels (e.g. default, conda-forge) and the environment prefix (in this case, subdirectories of /home/jovyan/.local/envs). The prefix is responsible for designating where the environment's contents will reside and if a subdirectory of the user (i.e. jovyan), the environment is user-local. Since the ~jovyan directory is persisted and remounted for each jupyter login, these environments also persist and do not have to be created each time you log into jupyter.\n",
    "\n",
    "The --force flag in the command lines used above forces conda to recreate (rather than just update) the environment from scratch.\n",
    "\n",
    "For clarity and organization, it's best to maintain the local environments in the same user subdirectory.\n",
    "\n",
    "To create a new user-local environment from scratch, use the following command:\n",
    "\n",
    "```conda env create -p /home/jovyan/.local/envs/<env-name>```\n",
    "\n",
    "\n",
    "To start with a copy of another environment (such as pcm_tools), omit the ```env``` and use the ```--clone``` command line option:\n",
    "\n",
    "```conda create -p /home/jovyan/.local/envs/<env-name> --clone pcm_tools```\n",
    "\n",
    "Once created, switch to the new environment accordingly (this is only applicable in terminal windows):\n",
    "\n",
    "```conda activate <env-name>```\n",
    "\n",
    "Currently active environments and their prefix can be listed by:\n",
    "\n",
    "```conda env list```\n",
    "\n",
    "An environment can be removed by:\n",
    "\n",
    "```conda env remove -n <env name>``` - to remove by name\n",
    "\n",
    "or\n",
    "\n",
    "```conda env remove -p <prefix>``` - to remove by prefix\n",
    "\n",
    "Finally, to make ipython aware of the environment, invoke ipykernel:\n",
    "\n",
    "```conda run -n <env name> python -m ipykernel install --user --name <env name> --display-name <env name>```\n",
    "\n",
    "then run kernda:\n",
    "\n",
    "```conda run -n <env name> kernda --env-dir ~/.local/share/<env name> --display-name <env name> \\\n",
    "         -o ~/.local/share/jupyter/kernels/<env name>/kernel.json```\n",
    "\n",
    "Running kernda ensures that the kernel is launched from within the associated conda environment. This means that any shell commands invoked within the notebook (e.g. using the %%bash magic) execute within that environment.\n",
    "\n",
    "You will need to reload the jupyter landing page in order to see the environment under the ```New``` pull down."
   ]
  },
  {
   "cell_type": "markdown",
   "id": "38d37274",
   "metadata": {},
   "source": [
    "<font size=\"1\">This notebook is compatible with NISAR Jupyter Server Image v1.7.3 and above</font>"
   ]
  }
 ],
 "metadata": {
  "kernelspec": {
   "display_name": "base",
   "language": "python",
   "name": "base"
  },
  "language_info": {
   "codemirror_mode": {
    "name": "ipython",
    "version": 3
   },
   "file_extension": ".py",
   "mimetype": "text/x-python",
   "name": "python",
   "nbconvert_exporter": "python",
   "pygments_lexer": "ipython3",
   "version": "3.10.11"
  }
 },
 "nbformat": 4,
 "nbformat_minor": 5
}
