{
 "cells": [
  {
   "cell_type": "markdown",
   "id": "dcca7d96",
   "metadata": {},
   "source": [
    "<font size=\"1\">Copyright 2021, by the California Institute of Technology. ALL RIGHTS RESERVED. United States Government sponsorship acknowledged. Any commercial use must be negotiated with the Office of Technology Transfer at the California Institute of Technology.</font>\n",
    "    \n",
    "<font size=\"1\">This software may be subject to U.S. export control laws and regulations. By accepting this document, the user agrees to comply with all applicable U.S. export laws and regulations. User has the responsibility to obtain export licenses, or other export authority as may be required, before exporting such information to foreign countries or providing access to foreign persons.<font>"
   ]
  },
  {
   "cell_type": "markdown",
   "id": "patient-logistics",
   "metadata": {},
   "source": [
    "## User-local Environment Creation\n",
    "**This notebook must be run in the base kernel.**\n",
    "\n",
    "This notebook provides the means by which additional conda environments that support specific science data packages are created local to the user (i.e.'user-local'). The implication of user-local installations is that they are retained across logins and server restarts (since the ~jovyan directory is retained and remounted each time). It also permits the user to customize the environment, again with those changes persisted across sessions.\n",
    "\n",
    "This notebook provides the steps to create the following user-local environments:\n",
    "- ISCE2/ISCE3\n",
    "- MintPy/ARIATools\n",
    "- PLAnT\n",
    "\n",
    "Each environment also contains the PCM APIs (pele-client, otello, osaka) and tools (notebook-pge-wrapper)."
   ]
  },
  {
   "cell_type": "markdown",
   "id": "71d24bfb",
   "metadata": {},
   "source": [
    "#### Install kernda\n",
    "Kernda will be used to make ipython aware of the environments we create."
   ]
  },
  {
   "cell_type": "code",
   "execution_count": null,
   "id": "0afba3d7",
   "metadata": {},
   "outputs": [],
   "source": [
    "pip install kernda"
   ]
  },
  {
   "cell_type": "markdown",
   "id": "3888f92c",
   "metadata": {},
   "source": [
    "### What environments are currently available?\n",
    "Come back and re-execute this cell any time to see what has and hasn't been created. Those found under /home/jovyan are user-local while others are global."
   ]
  },
  {
   "cell_type": "code",
   "execution_count": 2,
   "id": "ff1df791",
   "metadata": {
    "scrolled": true
   },
   "outputs": [
    {
     "name": "stdout",
     "output_type": "stream",
     "text": [
      "# conda environments:\n",
      "#\n",
      "isce                     /home/jovyan/.local/envs/isce\n",
      "isce_raider              /home/jovyan/.local/envs/isce_raider\n",
      "mintpy                   /home/jovyan/.local/envs/mintpy\n",
      "mintpy_dev               /home/jovyan/.local/envs/mintpy_dev\n",
      "qed                      /home/jovyan/.local/envs/qed\n",
      "solid_earth_atbd         /home/jovyan/.local/envs/solid_earth_atbd\n",
      "                         /home/jovyan/otello/.conda\n",
      "base                     /opt/conda\n",
      "pcm_tools                /opt/conda/envs/pcm_tools\n",
      "\n",
      "\n",
      "Note: you may need to restart the kernel to use updated packages.\n"
     ]
    }
   ],
   "source": [
    "%conda env list"
   ]
  },
  {
   "cell_type": "markdown",
   "id": "hearing-resource",
   "metadata": {},
   "source": [
    "### Configure conda\n",
    "This will make conda recognize directories under ~/.local/envs as their environment name. This only needs to be run once, ever."
   ]
  },
  {
   "cell_type": "code",
   "execution_count": 1,
   "id": "rural-danish",
   "metadata": {},
   "outputs": [
    {
     "name": "stderr",
     "output_type": "stream",
     "text": [
      "Warning: '/home/jovyan/.local/envs' already in 'envs_dirs' list, moving to the bottom\n"
     ]
    }
   ],
   "source": [
    "%%bash\n",
    "mkdir -p ~/.local/envs\n",
    "conda config --append envs_dirs ~/.local/envs"
   ]
  },
  {
   "cell_type": "markdown",
   "id": "e3fa1d63-0f13-48dd-95a0-a33d5c12dd32",
   "metadata": {},
   "source": [
    "# Solid Earth"
   ]
  },
  {
   "cell_type": "markdown",
   "id": "5a0b7367",
   "metadata": {},
   "source": [
    "### ISCE2 + MintPy + ARIA Tools + Solid Earth ATBDs\n"
   ]
  },
  {
   "cell_type": "code",
   "execution_count": null,
   "id": "6ee31a40",
   "metadata": {
    "scrolled": true,
    "tags": []
   },
   "outputs": [],
   "source": [
    "%%bash\n",
    "\n",
    "env_base=\"/home/jovyan/.local/envs/solid_earth_atbd\"\n",
    "local_base=\"/home/jovyan/.local\"\n",
    "\n",
    "# (re)create the ISCE2 environment that includes the packages required for Solid Earth ATBDs\n",
    "mamba env create -f env_files/isce_conda_env.yml -p ${env_base} \n",
    "# for now, have to use a slightly customized ATBD dependency yml file which specifies the correct version of dem_stitcher\n",
    "mamba env update -f env_files/solid_earth_atbd.yml -p ${env_base}\n",
    "\n",
    "\n",
    "# clone the Solid Earth ATBD repo into home directory FIX THIS\n",
    "atbd_path=~/ATBD\n",
    "conda env config vars set -n solid_earth_atbd PYTHONPATH=${atbd_path}:${PYTHONPATH}\n",
    "\n",
    "# ISCE set-up\n",
    "isce_package=${env_base}/lib/python3.9/site-packages/isce\n",
    "\n",
    "# install the license\n",
    "popd\n",
    "tar zxf support_files/stanford_components.tgz -C ${isce_package}\n",
    "\n",
    "# Variables for ISCE set-up\n",
    "source /opt/conda/bin/activate ${env_base}\n",
    "conda env config vars set -n solid_earth_atbd PATH=${env_base}/bin:${isce_package}/applications:${PATH}\n",
    "conda env config vars set -n solid_earth_atbd PYTHONPATH=${isce_package}:${PYTHONPATH}\n",
    "\n",
    "# MintPy set-up\n",
    "\n",
    "# (re)create the MintPy/ARIATools environment\n",
    "mamba env update -f env_files/mintpy_conda_env.yml -p ${env_base} \n",
    "\n",
    "# make the base mintpy files executable\n",
    "chmod 755 ${env_base}/lib/python*/site-packages/mintpy/*.py\n",
    "\n",
    "# install/build ARIA-tools\n",
    "aria_install_dir=${local_base}/tools/ARIA-tools\n",
    "if [ ! -d ${aria_install_dir} ] && echo \"Checking out ARIA-tools\"\n",
    "then\n",
    "    # add -b <branch/tag> to the following command to install one other than dev\n",
    "    git clone https://github.com/aria-tools/ARIA-tools ${aria_install_dir}\n",
    "fi\n",
    "\n",
    "# even if the directory previously exists, this has to be done since the environment is being recreated\n",
    "pushd ${aria_install_dir}\n",
    "git pull\n",
    "mamba run -n solid_earth_atbd python setup.py build\n",
    "mamba run -n solid_earth_atbd python setup.py install\n",
    "popd\n",
    "# update the ipykernel to recognize the new kernel\n",
    "conda run -n solid_earth_atbd python -m ipykernel install --user --name solid_earth_atbd --display-name \"solid_earth_atbd\"\n",
    "# now invoke kernda to modify the kernel file to ensure the kernel is invoked from within the conda environment\n",
    "conda run -n solid_earth_atbd kernda --env-dir ${env_base} --display-name solid_earth_atbd -o ~/.local/share/jupyter/kernels/solid_earth_atbd/kernel.json\n",
    "\n",
    "# Additional ARIA-tools set-up\n",
    "source /opt/conda/bin/activate ${env_base}\n",
    "conda env config vars set -n solid_earth_atbd PATH=${aria_install_dir}:${PATH}\n",
    "conda env config vars set -n solid_earth_atbd PYTHONPATH=${aria_install_dir}:${PYTHONPATH}"
   ]
  },
  {
   "cell_type": "markdown",
   "id": "4d4cbe66-5a40-4550-ad26-4440289506a1",
   "metadata": {
    "tags": []
   },
   "source": [
    "### MintPy + Solid Earth ATBDs"
   ]
  },
  {
   "cell_type": "code",
   "execution_count": null,
   "id": "1224e626-b6a0-4f3d-b8f1-e3a95652469d",
   "metadata": {
    "tags": []
   },
   "outputs": [],
   "source": [
    "%%bash\n",
    "\n",
    "env_base=\"/home/jovyan/.local/envs/mintpy_dev\"\n",
    "local_base=\"/home/jovyan/\"\n",
    "\n",
    "# Clone MintPy and install dependencies\n",
    "pushd ${local_base}\n",
    "\n",
    "# OPTIONAL: Clone the mintpy repo\n",
    "git clone https://github.com/insarlab/MintPy.git # Comment this out if you have already done this once\n",
    "\n",
    "#Pull the latest updates\n",
    "git pull # Or pull the newest version if you have already installed \n",
    "mamba create --name mintpy_dev --file ${local_base}/MintPy/requirements.txt -c conda-forge\n",
    "conda activate mintpy_dev\n",
    "python -m pip install -e ${local_base}/MintPy\n",
    "conda install -c conda-forge sardem\n",
    "popd\n",
    "\n",
    "# Clone the Solid Earth ATBD repo and install dependencies\n",
    "pushd ${local_base}\n",
    "\n",
    "# OPTIONAL: Clone the Solid Earth ATBD repo into home directory, or update it\n",
    "git clone https://gitlab.com/nisar-science-algorithms/solid-earth/atbd-se-development.git\n",
    "popd\n",
    "\n",
    "# Or just pull the updates\n",
    "atbd_path=${local_base}/atbd-se-development\n",
    "pushd ${atbd_path}\n",
    "git pull\n",
    "\n",
    "mamba env update -n mintpy_dev -f env_files/solid_earth_atbd.yml -p ${env_base}\n",
    "conda env config vars set -n mintpy_dev PYTHONPATH=${atbd_path}:${PYTHONPATH}\n",
    "popd\n",
    "\n",
    "# update the ipykernel to recognize the new kernel\n",
    "conda run -n mintpy_dev python -m ipykernel install --user --name mintpy_dev --display-name \"mintpy_dev\"\n",
    "# now invoke kernda to modify the kernel file to ensure the kernel is invoked from within the conda environment\n",
    "conda run -n mintpy_dev kernda --env-dir ${env_base} --display-name \"mintpy_dev\" -o ~/.local/share/jupyter/kernels/mintpy_dev/kernel.json"
   ]
  },
  {
   "cell_type": "markdown",
   "id": "4d53bc4e",
   "metadata": {},
   "source": [
    "### Ecosystems ATBDs\n"
   ]
  },
  {
   "cell_type": "code",
   "execution_count": null,
   "id": "13982360",
   "metadata": {
    "scrolled": true,
    "tags": []
   },
   "outputs": [],
   "source": [
    "%%bash\n",
    "\n",
    "env_base=\"/home/jovyan/.local/envs/ecosystems_atbd\"\n",
    "\n",
    "# Create the ecosystems_atbd environment that includes the packages required for Ecosystems ATBDs\n",
    "mamba env create -f env_files/ecosystems_atbd.yml -p ${env_base} --force\n",
    "\n",
    "# update the ipykernel to recognize the new kernel\n",
    "conda run -n ecosystems_atbd python -m ipykernel install --user --name ecosystems_atbd --display-name \"ecosystems_atbd\"\n",
    "# now invoke kernda to modify the kernel file to ensure the kernel is invoked from within the conda environment\n",
    "conda run -n ecosystems_atbd kernda --env-dir ${env_base} --display-name ecosystems_atbd -o ~/.local/share/jupyter/kernels/ecosystems_atbd/kernel.json\n"
   ]
  },
  {
   "cell_type": "markdown",
   "id": "5934de3c-8788-4ea2-ac2c-32bf0d39a326",
   "metadata": {},
   "source": [
    "### Ecosystems ATBDs with SNAPPY and Python = 3.6"
   ]
  },
  {
   "cell_type": "code",
   "execution_count": null,
   "id": "91a8b913-668a-4580-a3e5-272caa53198e",
   "metadata": {
    "tags": []
   },
   "outputs": [],
   "source": [
    "%%bash\n",
    "\n",
    "env_base=\"/home/jovyan/.local/envs/snappy_py36\"\n",
    "\n",
    "# Create the ecosystems_atbd environment that includes the packages required for Ecosystems ATBDs\n",
    "mamba env create -f env_files/snappy_py36.yml -p ${env_base} --force\n",
    "\n",
    "# update the ipykernel to recognize the new kernel\n",
    "conda run -n snappy_py36 python -m ipykernel install --user --name snappy_py36 --display-name \"snappy_py36\"\n",
    "# now invoke kernda to modify the kernel file to ensure the kernel is invoked from within the conda environment\n",
    "conda run -n snappy_py36 kernda --env-dir ${env_base} --display-name snappy_py36 -o ~/.local/share/jupyter/kernels/snappy_py36/kernel.json\n",
    "\n"
   ]
  },
  {
   "cell_type": "code",
   "execution_count": null,
   "id": "17cf90ec",
   "metadata": {},
   "outputs": [],
   "source": [
    "# download the snap linex installer\n",
    "!pip install wget\n",
    "import wget\n",
    "url = 'https://download.esa.int/step/snap/9.0/installers/esa-snap_sentinel_unix_9_0_0.sh'\n",
    "filename = wget.download(url, out='/home/jovyan/')\n",
    "\n",
    "# install SNAP\n",
    "!chmod +x esa-snap_sentinel_unix_9_0_0.sh\n",
    "\n",
    "## see next steps to install SNAP through the terminal"
   ]
  },
  {
   "cell_type": "markdown",
   "id": "ddacc766-55dd-44ad-9697-32a28d6eba53",
   "metadata": {
    "tags": []
   },
   "source": [
    "To install SNAP and configure for Python, the following steps are required:\n",
    "\n",
    "Within the Terminal, run the following:\n",
    "\n",
    "- conda activate snappy_py35\n",
    "- cd /home/jovyan/sds-ondemand/environments\n",
    "- ./esa-snap_sentinel_unix_9_0_0.sh\n",
    "- rm -r esa-snap_sentinel_unix_9_0_0.sh\n",
    "    \n",
    "**Follow the prompts, which are summarized below.**\n",
    "\n",
    "This will install ESA SNAP on your computer.\n",
    "\n",
    "**o**\n",
    "\n",
    "Where should ESA SNAP be installed?\n",
    "\n",
    "**[/home/jovyan/snap]**\n",
    "\n",
    "Which components should be installed?\n",
    "\n",
    "**[2,3,4,5]**\n",
    "\n",
    "Create symlinks?\n",
    "\n",
    "**n**\n",
    "\n",
    "Configure SNAP for use with Python?\n",
    "\n",
    "**y**\n",
    "\n",
    "Python executable:\n",
    "\n",
    "** /home/jovyan/.local/envs/snappy_py36/bin/python **\n",
    "\n",
    "Run SNAP Desktop and configure Python?\n",
    "\n",
    "**y**\n"
   ]
  },
  {
   "cell_type": "markdown",
   "id": "ac4a4db1-9bf0-469f-ab47-42f65ed1ae1d",
   "metadata": {},
   "source": [
    "### R environment"
   ]
  },
  {
   "cell_type": "code",
   "execution_count": null,
   "id": "5095f129-4c4d-491c-8e7b-43aafb1092a0",
   "metadata": {
    "tags": []
   },
   "outputs": [],
   "source": [
    "%%bash\n",
    "\n",
    "env_base=\"/home/jovyan/.local/envs/r_env\"\n",
    "\n",
    "# Create the ecosystems_atbd environment that includes the packages required for Ecosystems ATBDs\n",
    "mamba env create -f env_files/r_env.yml -p ${env_base} --force\n",
    "\n",
    "# update the ipykernel to recognize the new kernel\n",
    "conda run -n r_env python -m ipykernel install --user --name r_env --display-name \"r_env\"\n",
    "# now invoke kernda to modify the kernel file to ensure the kernel is invoked from within the conda environment\n",
    "conda run -n r_env kernda --env-dir ${env_base} --display-name r_env -o ~/.local/share/jupyter/kernels/r_env/kernel.json\n"
   ]
  },
  {
   "cell_type": "markdown",
   "id": "467a8996",
   "metadata": {},
   "source": [
    "### Creating other user-local environments.\n",
    "\n",
    "As shown above, the command used to create a conda environment is:\n",
    "\n",
    "```conda env create <arguments>```\n",
    "\n",
    "In the above cases, the ```-f``` switch is used to denote the input file which describes the environment's contents, including the source conda channels (e.g. default, conda-forge) and the environment prefix (in this case, subdirectories of /home/jovyan/.local/envs). The prefix is responsible for designating where the environment's contents will reside and if a subdirectory of the user (i.e. jovyan), the environment is user-local. Since the ~jovyan directory is persisted and remounted for each jupyter login, these environments also persist and do not have to be created each time you log into jupyter.\n",
    "\n",
    "The --force flag in the command lines used above forces conda to recreate (rather than just update) the environment from scratch.\n",
    "\n",
    "For clarity and organization, it's best to maintain the local environments in the same user subdirectory.\n",
    "\n",
    "To create a new user-local environment from scratch, use the following command:\n",
    "\n",
    "```conda env create -p /home/jovyan/.local/envs/<env-name>```\n",
    "\n",
    "\n",
    "To start with a copy of another environment (such as pcm_tools), omit the ```env``` and use the ```--clone``` command line option:\n",
    "\n",
    "```conda create -p /home/jovyan/.local/envs/<env-name> --clone pcm_tools```\n",
    "\n",
    "Once created, switch to the new environment accordingly (this is only applicable in terminal windows):\n",
    "\n",
    "```conda activate <env-name>```\n",
    "\n",
    "Currently active environments and their prefix can be listed by:\n",
    "\n",
    "```conda env list```\n",
    "\n",
    "An environment can be removed by:\n",
    "\n",
    "```conda env remove -n <env name>``` - to remove by name\n",
    "\n",
    "or\n",
    "\n",
    "```conda env remove -p <prefix>``` - to remove by prefix\n",
    "\n",
    "Finally, to make ipython aware of the environment, invoke ipykernel:\n",
    "\n",
    "```conda run -n <env name> python -m ipykernel install --user --name <env name> --display-name <env name>```\n",
    "\n",
    "then run kernda:\n",
    "\n",
    "```conda run -n <env name> kernda --env-dir ~/.local/share/<env name> --display-name <env name> \\\n",
    "         -o ~/.local/share/jupyter/kernels/<env name>/kernel.json```\n",
    "\n",
    "Running kernda ensures that the kernel is launched from within the associated conda environment. This means that any shell commands invoked within the notebook (e.g. using the %%bash magic) execute within that environment.\n",
    "\n",
    "You will need to reload the jupyter landing page in order to see the environment under the ```New``` pull down."
   ]
  },
  {
   "cell_type": "markdown",
   "id": "38d37274",
   "metadata": {},
   "source": [
    "<font size=\"1\">This notebook is compatible with NISAR Jupyter Server Image v1.7.3 and above</font>"
   ]
  }
 ],
 "metadata": {
  "kernelspec": {
   "display_name": "Python 3 (ipykernel)",
   "language": "python",
   "name": "python3"
  },
  "language_info": {
   "codemirror_mode": {
    "name": "ipython",
    "version": 3
   },
   "file_extension": ".py",
   "mimetype": "text/x-python",
   "name": "python",
   "nbconvert_exporter": "python",
   "pygments_lexer": "ipython3",
   "version": "3.10.11"
  }
 },
 "nbformat": 4,
 "nbformat_minor": 5
}
